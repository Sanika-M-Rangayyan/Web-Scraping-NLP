{
 "cells": [
  {
   "cell_type": "code",
   "execution_count": 1,
   "id": "69d43004",
   "metadata": {},
   "outputs": [],
   "source": [
    "from bs4 import BeautifulSoup as bs\n",
    "import requests"
   ]
  },
  {
   "cell_type": "code",
   "execution_count": 2,
   "id": "74dc0b23",
   "metadata": {},
   "outputs": [],
   "source": [
    "#print(soup.title.text)"
   ]
  },
  {
   "cell_type": "code",
   "execution_count": 3,
   "id": "6f77c9f5",
   "metadata": {},
   "outputs": [],
   "source": [
    "review_content=[]"
   ]
  },
  {
   "cell_type": "code",
   "execution_count": 4,
   "id": "116aacdd",
   "metadata": {},
   "outputs": [],
   "source": [
    "def get_review(soup):\n",
    "    reviews=soup.find_all('div',{'data-hook':'review'})\n",
    "    try:\n",
    "        for item in reviews:\n",
    "            review_dict={\n",
    "            'title':item.find('a',{'data-hook':'review-title'}).text.strip(),\n",
    "            'rating':float(item.find('i',{'data-hook':'review-star-rating'}).text.replace(\"out of 5 stars\",\" \").strip()),\n",
    "            'content':item.find('span',{'data-hook':'review-body'}).text.strip()\n",
    "            }\n",
    "            #print(rating,title,content)\n",
    "            review_content.append(review_dict)\n",
    "    except:\n",
    "        pass\n",
    "    \n",
    "\n",
    "\n"
   ]
  },
  {
   "cell_type": "code",
   "execution_count": 5,
   "id": "773283bc",
   "metadata": {},
   "outputs": [],
   "source": [
    "for x in range(1,500):\n",
    "    link=f\"https://www.amazon.in/Bassbuds-Duo-Headphones-Water-Resistant-Assistance/product-reviews/B09DD7N79Q/ref=cm_cr_arp_d_paging_btm_next_2?ie=UTF8&reviewerType=all_reviews&pageNumber={x}\"\n",
    "    #print(link)\n",
    "    page=requests.get(link)\n",
    "    soup=bs(page.content,'html.parser')\n",
    "    get_review(soup)\n",
    "    #print(len(review_content))\n",
    "    if not soup.find('li',{'class':'a-disabled a-last'}):\n",
    "        pass\n",
    "    else:\n",
    "        break\n",
    "                                                                                                                     "
   ]
  },
  {
   "cell_type": "code",
   "execution_count": 6,
   "id": "6648ad46",
   "metadata": {},
   "outputs": [],
   "source": [
    "import pandas as pd"
   ]
  },
  {
   "cell_type": "code",
   "execution_count": 7,
   "id": "c0e32c70",
   "metadata": {},
   "outputs": [],
   "source": [
    "df=pd.DataFrame(review_content)\n",
    "df.to_excel(\"Amazon_review.xlsx\",index=False)"
   ]
  },
  {
   "cell_type": "code",
   "execution_count": 8,
   "id": "5bb7d0c5",
   "metadata": {
    "scrolled": true
   },
   "outputs": [
    {
     "data": {
      "text/html": [
       "<div>\n",
       "<style scoped>\n",
       "    .dataframe tbody tr th:only-of-type {\n",
       "        vertical-align: middle;\n",
       "    }\n",
       "\n",
       "    .dataframe tbody tr th {\n",
       "        vertical-align: top;\n",
       "    }\n",
       "\n",
       "    .dataframe thead th {\n",
       "        text-align: right;\n",
       "    }\n",
       "</style>\n",
       "<table border=\"1\" class=\"dataframe\">\n",
       "  <thead>\n",
       "    <tr style=\"text-align: right;\">\n",
       "      <th></th>\n",
       "      <th>title</th>\n",
       "      <th>rating</th>\n",
       "      <th>content</th>\n",
       "    </tr>\n",
       "  </thead>\n",
       "  <tbody>\n",
       "    <tr>\n",
       "      <th>0</th>\n",
       "      <td>Decent tws earbuds. Sound quality: Good..... B...</td>\n",
       "      <td>4.0</td>\n",
       "      <td>Been using these for 2 days now and have a few...</td>\n",
       "    </tr>\n",
       "    <tr>\n",
       "      <th>1</th>\n",
       "      <td>Cost is low..make it urs if u wanna try a dece...</td>\n",
       "      <td>5.0</td>\n",
       "      <td>Well...if u wanna try a decent TWS(True Wirele...</td>\n",
       "    </tr>\n",
       "    <tr>\n",
       "      <th>2</th>\n",
       "      <td>Disappointed</td>\n",
       "      <td>1.0</td>\n",
       "      <td>Dont waste your money on this guys i have brou...</td>\n",
       "    </tr>\n",
       "    <tr>\n",
       "      <th>3</th>\n",
       "      <td>Nice earbuds</td>\n",
       "      <td>5.0</td>\n",
       "      <td>Superb earbuds with perfect and sweetest sound...</td>\n",
       "    </tr>\n",
       "    <tr>\n",
       "      <th>4</th>\n",
       "      <td>Absolute crap</td>\n",
       "      <td>1.0</td>\n",
       "      <td>This is the worst Bluetooth headphone I ever u...</td>\n",
       "    </tr>\n",
       "  </tbody>\n",
       "</table>\n",
       "</div>"
      ],
      "text/plain": [
       "                                               title  rating  \\\n",
       "0  Decent tws earbuds. Sound quality: Good..... B...     4.0   \n",
       "1  Cost is low..make it urs if u wanna try a dece...     5.0   \n",
       "2                                       Disappointed     1.0   \n",
       "3                                       Nice earbuds     5.0   \n",
       "4                                      Absolute crap     1.0   \n",
       "\n",
       "                                             content  \n",
       "0  Been using these for 2 days now and have a few...  \n",
       "1  Well...if u wanna try a decent TWS(True Wirele...  \n",
       "2  Dont waste your money on this guys i have brou...  \n",
       "3  Superb earbuds with perfect and sweetest sound...  \n",
       "4  This is the worst Bluetooth headphone I ever u...  "
      ]
     },
     "execution_count": 8,
     "metadata": {},
     "output_type": "execute_result"
    }
   ],
   "source": [
    "df.head()"
   ]
  },
  {
   "cell_type": "code",
   "execution_count": 9,
   "id": "7546bc76",
   "metadata": {
    "scrolled": true
   },
   "outputs": [
    {
     "data": {
      "text/html": [
       "<div>\n",
       "<style scoped>\n",
       "    .dataframe tbody tr th:only-of-type {\n",
       "        vertical-align: middle;\n",
       "    }\n",
       "\n",
       "    .dataframe tbody tr th {\n",
       "        vertical-align: top;\n",
       "    }\n",
       "\n",
       "    .dataframe thead th {\n",
       "        text-align: right;\n",
       "    }\n",
       "</style>\n",
       "<table border=\"1\" class=\"dataframe\">\n",
       "  <thead>\n",
       "    <tr style=\"text-align: right;\">\n",
       "      <th></th>\n",
       "      <th>title</th>\n",
       "      <th>rating</th>\n",
       "      <th>content</th>\n",
       "    </tr>\n",
       "  </thead>\n",
       "  <tbody>\n",
       "    <tr>\n",
       "      <th>4485</th>\n",
       "      <td>I repent wasting my money. Its not working.</td>\n",
       "      <td>1.0</td>\n",
       "      <td>It gets disconnected every now and then. The q...</td>\n",
       "    </tr>\n",
       "    <tr>\n",
       "      <th>4486</th>\n",
       "      <td>Very convenient to use 👍 delighted to have this 😇</td>\n",
       "      <td>5.0</td>\n",
       "      <td>Stereo phonic sound clarity 👌 easily functiona...</td>\n",
       "    </tr>\n",
       "    <tr>\n",
       "      <th>4487</th>\n",
       "      <td>Very bad Bluetooth experience because some tim...</td>\n",
       "      <td>3.0</td>\n",
       "      <td>Bluetooth breaking problem when I am working o...</td>\n",
       "    </tr>\n",
       "    <tr>\n",
       "      <th>4488</th>\n",
       "      <td>Superb items, excellent</td>\n",
       "      <td>5.0</td>\n",
       "      <td>Iam Happy about that, excellent product in low...</td>\n",
       "    </tr>\n",
       "    <tr>\n",
       "      <th>4489</th>\n",
       "      <td>Not working properly</td>\n",
       "      <td>3.0</td>\n",
       "      <td>I have an issue with the product, the bluetoot...</td>\n",
       "    </tr>\n",
       "  </tbody>\n",
       "</table>\n",
       "</div>"
      ],
      "text/plain": [
       "                                                  title  rating  \\\n",
       "4485        I repent wasting my money. Its not working.     1.0   \n",
       "4486  Very convenient to use 👍 delighted to have this 😇     5.0   \n",
       "4487  Very bad Bluetooth experience because some tim...     3.0   \n",
       "4488                            Superb items, excellent     5.0   \n",
       "4489                               Not working properly     3.0   \n",
       "\n",
       "                                                content  \n",
       "4485  It gets disconnected every now and then. The q...  \n",
       "4486  Stereo phonic sound clarity 👌 easily functiona...  \n",
       "4487  Bluetooth breaking problem when I am working o...  \n",
       "4488  Iam Happy about that, excellent product in low...  \n",
       "4489  I have an issue with the product, the bluetoot...  "
      ]
     },
     "execution_count": 9,
     "metadata": {},
     "output_type": "execute_result"
    }
   ],
   "source": [
    "df.tail()"
   ]
  },
  {
   "cell_type": "code",
   "execution_count": 10,
   "id": "a72778c8",
   "metadata": {},
   "outputs": [
    {
     "data": {
      "text/html": [
       "<div>\n",
       "<style scoped>\n",
       "    .dataframe tbody tr th:only-of-type {\n",
       "        vertical-align: middle;\n",
       "    }\n",
       "\n",
       "    .dataframe tbody tr th {\n",
       "        vertical-align: top;\n",
       "    }\n",
       "\n",
       "    .dataframe thead th {\n",
       "        text-align: right;\n",
       "    }\n",
       "</style>\n",
       "<table border=\"1\" class=\"dataframe\">\n",
       "  <thead>\n",
       "    <tr style=\"text-align: right;\">\n",
       "      <th></th>\n",
       "      <th>rating</th>\n",
       "    </tr>\n",
       "  </thead>\n",
       "  <tbody>\n",
       "    <tr>\n",
       "      <th>count</th>\n",
       "      <td>4490.000000</td>\n",
       "    </tr>\n",
       "    <tr>\n",
       "      <th>mean</th>\n",
       "      <td>3.361470</td>\n",
       "    </tr>\n",
       "    <tr>\n",
       "      <th>std</th>\n",
       "      <td>1.672597</td>\n",
       "    </tr>\n",
       "    <tr>\n",
       "      <th>min</th>\n",
       "      <td>1.000000</td>\n",
       "    </tr>\n",
       "    <tr>\n",
       "      <th>25%</th>\n",
       "      <td>1.000000</td>\n",
       "    </tr>\n",
       "    <tr>\n",
       "      <th>50%</th>\n",
       "      <td>4.000000</td>\n",
       "    </tr>\n",
       "    <tr>\n",
       "      <th>75%</th>\n",
       "      <td>5.000000</td>\n",
       "    </tr>\n",
       "    <tr>\n",
       "      <th>max</th>\n",
       "      <td>5.000000</td>\n",
       "    </tr>\n",
       "  </tbody>\n",
       "</table>\n",
       "</div>"
      ],
      "text/plain": [
       "            rating\n",
       "count  4490.000000\n",
       "mean      3.361470\n",
       "std       1.672597\n",
       "min       1.000000\n",
       "25%       1.000000\n",
       "50%       4.000000\n",
       "75%       5.000000\n",
       "max       5.000000"
      ]
     },
     "execution_count": 10,
     "metadata": {},
     "output_type": "execute_result"
    }
   ],
   "source": [
    "df.describe()"
   ]
  },
  {
   "cell_type": "code",
   "execution_count": null,
   "id": "910fd7f1",
   "metadata": {},
   "outputs": [],
   "source": []
  },
  {
   "cell_type": "code",
   "execution_count": null,
   "id": "36ff433a",
   "metadata": {},
   "outputs": [],
   "source": []
  }
 ],
 "metadata": {
  "kernelspec": {
   "display_name": "Python 3 (ipykernel)",
   "language": "python",
   "name": "python3"
  },
  "language_info": {
   "codemirror_mode": {
    "name": "ipython",
    "version": 3
   },
   "file_extension": ".py",
   "mimetype": "text/x-python",
   "name": "python",
   "nbconvert_exporter": "python",
   "pygments_lexer": "ipython3",
   "version": "3.10.4"
  }
 },
 "nbformat": 4,
 "nbformat_minor": 5
}
